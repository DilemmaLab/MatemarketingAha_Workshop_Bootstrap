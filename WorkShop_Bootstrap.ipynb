{
  "nbformat": 4,
  "nbformat_minor": 0,
  "metadata": {
    "colab": {
      "provenance": []
    },
    "kernelspec": {
      "name": "python3",
      "display_name": "Python 3"
    },
    "language_info": {
      "name": "python"
    }
  },
  "cells": [
    {
      "cell_type": "code",
      "execution_count": null,
      "metadata": {
        "id": "MA9XklG459sY"
      },
      "outputs": [],
      "source": [
        "import pandas as pd\n",
        "import numpy as np\n",
        "import matplotlib.pyplot as plt"
      ]
    },
    {
      "cell_type": "code",
      "source": [
        "from random import randint\n",
        "from uuid import uuid4\n",
        "\n",
        "data = [str(uuid4()) for i in range(10000)]"
      ],
      "metadata": {
        "id": "5-5N0ULab7c1"
      },
      "execution_count": null,
      "outputs": []
    },
    {
      "cell_type": "markdown",
      "source": [
        "# Метрики теста"
      ],
      "metadata": {
        "id": "JonbG-VtX3zw"
      }
    },
    {
      "cell_type": "markdown",
      "source": [
        "GMV aggregated (per user, per group)\n",
        "\n",
        "AVG ratio\n",
        "\n",
        "Конверсия ratio"
      ],
      "metadata": {
        "id": "T9VrJmcksQGf"
      }
    },
    {
      "cell_type": "code",
      "source": [
        "import random\n",
        "# Конверсия ratio\n",
        "conv = [randint(0,1) for i in data]\n",
        "\n",
        "# GMV aggregated (per user, per group)\n",
        "gmv = [round(random.random()*1000,2)*conv[i] for i in range(len(data))]\n",
        "\n",
        "# Количество покупок\n",
        "cnt = [round(random.randint(0,100),2)*conv[i] for i in range(len(data))]\n",
        "\n",
        "# AVG ratio\n",
        "avg = [[gmv_i/cnt_i for _ in range(cnt_i)] if cnt_i>=1 else [0] for (gmv_i,cnt_i) in zip(gmv, cnt)]"
      ],
      "metadata": {
        "id": "mU6WVTNwh9Ou"
      },
      "execution_count": null,
      "outputs": []
    },
    {
      "cell_type": "code",
      "source": [
        "df = pd.DataFrame({'user_id': data,\n",
        "                   'conversion': conv,\n",
        "                   'gmv': gmv,\n",
        "                   'cnt': cnt,\n",
        "                   'avg': avg,})"
      ],
      "metadata": {
        "id": "IjZS80hbmJr8"
      },
      "execution_count": null,
      "outputs": []
    },
    {
      "cell_type": "code",
      "source": [
        "df.head(20)"
      ],
      "metadata": {
        "colab": {
          "base_uri": "https://localhost:8080/",
          "height": 669
        },
        "id": "LO1U2ltyYHe3",
        "outputId": "f7ef96e7-c36f-4200-fcf0-625f431d031f"
      },
      "execution_count": null,
      "outputs": [
        {
          "output_type": "execute_result",
          "data": {
            "text/plain": [
              "                                 user_id  conversion     gmv  cnt  \\\n",
              "0   58cb2166-94ae-4c37-88be-00867977dd4b           0    0.00    0   \n",
              "1   9fa00a8f-6294-43dd-b04d-8f126903f7bc           1  454.38    7   \n",
              "2   b5c9d064-3083-4d9a-9a4a-47917606ecb2           0    0.00    0   \n",
              "3   ffda2b31-0456-404a-a31a-dc4301616c01           1   50.66   69   \n",
              "4   4ac059ad-de39-4912-b3cf-2084494b923c           0    0.00    0   \n",
              "5   aaa07a9d-0097-4891-9956-0df7f1f5185e           0    0.00    0   \n",
              "6   0150fedc-e75a-486a-aefd-998c98cf4dd6           0    0.00    0   \n",
              "7   91486a8d-65d3-459b-806f-6c2f37939759           1  523.28   40   \n",
              "8   60630087-412d-4247-8147-a2081feacaec           0    0.00    0   \n",
              "9   e2dd5eb9-c7d4-4a01-a915-616b80eab098           1  475.22   61   \n",
              "10  316f6e3d-4496-44dd-bd5a-b83649f27ab5           0    0.00    0   \n",
              "11  0ccb1919-88e9-4077-b49f-136dc2aac170           0    0.00    0   \n",
              "12  b7c549a8-56c2-4a06-9cdf-c913300729bf           1  420.84   47   \n",
              "13  acecc71c-3b53-42f0-a86b-1cc7a5168420           1  862.58   96   \n",
              "14  80f77d1c-93cc-4e9b-a3bf-3fda71f35644           1  396.59   45   \n",
              "15  752c9bd0-cbab-4f06-8e88-c48c6c8e8a4c           0    0.00    0   \n",
              "16  c483e417-073c-475a-803e-4fca9de5fe96           1  644.30   45   \n",
              "17  0cbaea6f-b15c-4abd-9b21-aa2c3526a61b           0    0.00    0   \n",
              "18  d74b50c6-3822-4355-8306-bab7d1e18fac           1  434.28   75   \n",
              "19  1bf108da-524a-474d-baf6-f92efb34d3e6           1  981.20   15   \n",
              "\n",
              "                                                  avg  \n",
              "0                                                 [0]  \n",
              "1   [64.91142857142857, 64.91142857142857, 64.9114...  \n",
              "2                                                 [0]  \n",
              "3   [0.7342028985507246, 0.7342028985507246, 0.734...  \n",
              "4                                                 [0]  \n",
              "5                                                 [0]  \n",
              "6                                                 [0]  \n",
              "7   [13.081999999999999, 13.081999999999999, 13.08...  \n",
              "8                                                 [0]  \n",
              "9   [7.790491803278689, 7.790491803278689, 7.79049...  \n",
              "10                                                [0]  \n",
              "11                                                [0]  \n",
              "12  [8.954042553191488, 8.954042553191488, 8.95404...  \n",
              "13  [8.985208333333334, 8.985208333333334, 8.98520...  \n",
              "14  [8.81311111111111, 8.81311111111111, 8.8131111...  \n",
              "15                                                [0]  \n",
              "16  [14.317777777777776, 14.317777777777776, 14.31...  \n",
              "17                                                [0]  \n",
              "18  [5.7904, 5.7904, 5.7904, 5.7904, 5.7904, 5.790...  \n",
              "19  [65.41333333333334, 65.41333333333334, 65.4133...  "
            ],
            "text/html": [
              "\n",
              "  <div id=\"df-8da3a50f-9b00-49ce-9cbc-0a467ab6644c\">\n",
              "    <div class=\"colab-df-container\">\n",
              "      <div>\n",
              "<style scoped>\n",
              "    .dataframe tbody tr th:only-of-type {\n",
              "        vertical-align: middle;\n",
              "    }\n",
              "\n",
              "    .dataframe tbody tr th {\n",
              "        vertical-align: top;\n",
              "    }\n",
              "\n",
              "    .dataframe thead th {\n",
              "        text-align: right;\n",
              "    }\n",
              "</style>\n",
              "<table border=\"1\" class=\"dataframe\">\n",
              "  <thead>\n",
              "    <tr style=\"text-align: right;\">\n",
              "      <th></th>\n",
              "      <th>user_id</th>\n",
              "      <th>conversion</th>\n",
              "      <th>gmv</th>\n",
              "      <th>cnt</th>\n",
              "      <th>avg</th>\n",
              "    </tr>\n",
              "  </thead>\n",
              "  <tbody>\n",
              "    <tr>\n",
              "      <th>0</th>\n",
              "      <td>58cb2166-94ae-4c37-88be-00867977dd4b</td>\n",
              "      <td>0</td>\n",
              "      <td>0.00</td>\n",
              "      <td>0</td>\n",
              "      <td>[0]</td>\n",
              "    </tr>\n",
              "    <tr>\n",
              "      <th>1</th>\n",
              "      <td>9fa00a8f-6294-43dd-b04d-8f126903f7bc</td>\n",
              "      <td>1</td>\n",
              "      <td>454.38</td>\n",
              "      <td>7</td>\n",
              "      <td>[64.91142857142857, 64.91142857142857, 64.9114...</td>\n",
              "    </tr>\n",
              "    <tr>\n",
              "      <th>2</th>\n",
              "      <td>b5c9d064-3083-4d9a-9a4a-47917606ecb2</td>\n",
              "      <td>0</td>\n",
              "      <td>0.00</td>\n",
              "      <td>0</td>\n",
              "      <td>[0]</td>\n",
              "    </tr>\n",
              "    <tr>\n",
              "      <th>3</th>\n",
              "      <td>ffda2b31-0456-404a-a31a-dc4301616c01</td>\n",
              "      <td>1</td>\n",
              "      <td>50.66</td>\n",
              "      <td>69</td>\n",
              "      <td>[0.7342028985507246, 0.7342028985507246, 0.734...</td>\n",
              "    </tr>\n",
              "    <tr>\n",
              "      <th>4</th>\n",
              "      <td>4ac059ad-de39-4912-b3cf-2084494b923c</td>\n",
              "      <td>0</td>\n",
              "      <td>0.00</td>\n",
              "      <td>0</td>\n",
              "      <td>[0]</td>\n",
              "    </tr>\n",
              "    <tr>\n",
              "      <th>5</th>\n",
              "      <td>aaa07a9d-0097-4891-9956-0df7f1f5185e</td>\n",
              "      <td>0</td>\n",
              "      <td>0.00</td>\n",
              "      <td>0</td>\n",
              "      <td>[0]</td>\n",
              "    </tr>\n",
              "    <tr>\n",
              "      <th>6</th>\n",
              "      <td>0150fedc-e75a-486a-aefd-998c98cf4dd6</td>\n",
              "      <td>0</td>\n",
              "      <td>0.00</td>\n",
              "      <td>0</td>\n",
              "      <td>[0]</td>\n",
              "    </tr>\n",
              "    <tr>\n",
              "      <th>7</th>\n",
              "      <td>91486a8d-65d3-459b-806f-6c2f37939759</td>\n",
              "      <td>1</td>\n",
              "      <td>523.28</td>\n",
              "      <td>40</td>\n",
              "      <td>[13.081999999999999, 13.081999999999999, 13.08...</td>\n",
              "    </tr>\n",
              "    <tr>\n",
              "      <th>8</th>\n",
              "      <td>60630087-412d-4247-8147-a2081feacaec</td>\n",
              "      <td>0</td>\n",
              "      <td>0.00</td>\n",
              "      <td>0</td>\n",
              "      <td>[0]</td>\n",
              "    </tr>\n",
              "    <tr>\n",
              "      <th>9</th>\n",
              "      <td>e2dd5eb9-c7d4-4a01-a915-616b80eab098</td>\n",
              "      <td>1</td>\n",
              "      <td>475.22</td>\n",
              "      <td>61</td>\n",
              "      <td>[7.790491803278689, 7.790491803278689, 7.79049...</td>\n",
              "    </tr>\n",
              "    <tr>\n",
              "      <th>10</th>\n",
              "      <td>316f6e3d-4496-44dd-bd5a-b83649f27ab5</td>\n",
              "      <td>0</td>\n",
              "      <td>0.00</td>\n",
              "      <td>0</td>\n",
              "      <td>[0]</td>\n",
              "    </tr>\n",
              "    <tr>\n",
              "      <th>11</th>\n",
              "      <td>0ccb1919-88e9-4077-b49f-136dc2aac170</td>\n",
              "      <td>0</td>\n",
              "      <td>0.00</td>\n",
              "      <td>0</td>\n",
              "      <td>[0]</td>\n",
              "    </tr>\n",
              "    <tr>\n",
              "      <th>12</th>\n",
              "      <td>b7c549a8-56c2-4a06-9cdf-c913300729bf</td>\n",
              "      <td>1</td>\n",
              "      <td>420.84</td>\n",
              "      <td>47</td>\n",
              "      <td>[8.954042553191488, 8.954042553191488, 8.95404...</td>\n",
              "    </tr>\n",
              "    <tr>\n",
              "      <th>13</th>\n",
              "      <td>acecc71c-3b53-42f0-a86b-1cc7a5168420</td>\n",
              "      <td>1</td>\n",
              "      <td>862.58</td>\n",
              "      <td>96</td>\n",
              "      <td>[8.985208333333334, 8.985208333333334, 8.98520...</td>\n",
              "    </tr>\n",
              "    <tr>\n",
              "      <th>14</th>\n",
              "      <td>80f77d1c-93cc-4e9b-a3bf-3fda71f35644</td>\n",
              "      <td>1</td>\n",
              "      <td>396.59</td>\n",
              "      <td>45</td>\n",
              "      <td>[8.81311111111111, 8.81311111111111, 8.8131111...</td>\n",
              "    </tr>\n",
              "    <tr>\n",
              "      <th>15</th>\n",
              "      <td>752c9bd0-cbab-4f06-8e88-c48c6c8e8a4c</td>\n",
              "      <td>0</td>\n",
              "      <td>0.00</td>\n",
              "      <td>0</td>\n",
              "      <td>[0]</td>\n",
              "    </tr>\n",
              "    <tr>\n",
              "      <th>16</th>\n",
              "      <td>c483e417-073c-475a-803e-4fca9de5fe96</td>\n",
              "      <td>1</td>\n",
              "      <td>644.30</td>\n",
              "      <td>45</td>\n",
              "      <td>[14.317777777777776, 14.317777777777776, 14.31...</td>\n",
              "    </tr>\n",
              "    <tr>\n",
              "      <th>17</th>\n",
              "      <td>0cbaea6f-b15c-4abd-9b21-aa2c3526a61b</td>\n",
              "      <td>0</td>\n",
              "      <td>0.00</td>\n",
              "      <td>0</td>\n",
              "      <td>[0]</td>\n",
              "    </tr>\n",
              "    <tr>\n",
              "      <th>18</th>\n",
              "      <td>d74b50c6-3822-4355-8306-bab7d1e18fac</td>\n",
              "      <td>1</td>\n",
              "      <td>434.28</td>\n",
              "      <td>75</td>\n",
              "      <td>[5.7904, 5.7904, 5.7904, 5.7904, 5.7904, 5.790...</td>\n",
              "    </tr>\n",
              "    <tr>\n",
              "      <th>19</th>\n",
              "      <td>1bf108da-524a-474d-baf6-f92efb34d3e6</td>\n",
              "      <td>1</td>\n",
              "      <td>981.20</td>\n",
              "      <td>15</td>\n",
              "      <td>[65.41333333333334, 65.41333333333334, 65.4133...</td>\n",
              "    </tr>\n",
              "  </tbody>\n",
              "</table>\n",
              "</div>\n",
              "      <button class=\"colab-df-convert\" onclick=\"convertToInteractive('df-8da3a50f-9b00-49ce-9cbc-0a467ab6644c')\"\n",
              "              title=\"Convert this dataframe to an interactive table.\"\n",
              "              style=\"display:none;\">\n",
              "        \n",
              "  <svg xmlns=\"http://www.w3.org/2000/svg\" height=\"24px\"viewBox=\"0 0 24 24\"\n",
              "       width=\"24px\">\n",
              "    <path d=\"M0 0h24v24H0V0z\" fill=\"none\"/>\n",
              "    <path d=\"M18.56 5.44l.94 2.06.94-2.06 2.06-.94-2.06-.94-.94-2.06-.94 2.06-2.06.94zm-11 1L8.5 8.5l.94-2.06 2.06-.94-2.06-.94L8.5 2.5l-.94 2.06-2.06.94zm10 10l.94 2.06.94-2.06 2.06-.94-2.06-.94-.94-2.06-.94 2.06-2.06.94z\"/><path d=\"M17.41 7.96l-1.37-1.37c-.4-.4-.92-.59-1.43-.59-.52 0-1.04.2-1.43.59L10.3 9.45l-7.72 7.72c-.78.78-.78 2.05 0 2.83L4 21.41c.39.39.9.59 1.41.59.51 0 1.02-.2 1.41-.59l7.78-7.78 2.81-2.81c.8-.78.8-2.07 0-2.86zM5.41 20L4 18.59l7.72-7.72 1.47 1.35L5.41 20z\"/>\n",
              "  </svg>\n",
              "      </button>\n",
              "      \n",
              "  <style>\n",
              "    .colab-df-container {\n",
              "      display:flex;\n",
              "      flex-wrap:wrap;\n",
              "      gap: 12px;\n",
              "    }\n",
              "\n",
              "    .colab-df-convert {\n",
              "      background-color: #E8F0FE;\n",
              "      border: none;\n",
              "      border-radius: 50%;\n",
              "      cursor: pointer;\n",
              "      display: none;\n",
              "      fill: #1967D2;\n",
              "      height: 32px;\n",
              "      padding: 0 0 0 0;\n",
              "      width: 32px;\n",
              "    }\n",
              "\n",
              "    .colab-df-convert:hover {\n",
              "      background-color: #E2EBFA;\n",
              "      box-shadow: 0px 1px 2px rgba(60, 64, 67, 0.3), 0px 1px 3px 1px rgba(60, 64, 67, 0.15);\n",
              "      fill: #174EA6;\n",
              "    }\n",
              "\n",
              "    [theme=dark] .colab-df-convert {\n",
              "      background-color: #3B4455;\n",
              "      fill: #D2E3FC;\n",
              "    }\n",
              "\n",
              "    [theme=dark] .colab-df-convert:hover {\n",
              "      background-color: #434B5C;\n",
              "      box-shadow: 0px 1px 3px 1px rgba(0, 0, 0, 0.15);\n",
              "      filter: drop-shadow(0px 1px 2px rgba(0, 0, 0, 0.3));\n",
              "      fill: #FFFFFF;\n",
              "    }\n",
              "  </style>\n",
              "\n",
              "      <script>\n",
              "        const buttonEl =\n",
              "          document.querySelector('#df-8da3a50f-9b00-49ce-9cbc-0a467ab6644c button.colab-df-convert');\n",
              "        buttonEl.style.display =\n",
              "          google.colab.kernel.accessAllowed ? 'block' : 'none';\n",
              "\n",
              "        async function convertToInteractive(key) {\n",
              "          const element = document.querySelector('#df-8da3a50f-9b00-49ce-9cbc-0a467ab6644c');\n",
              "          const dataTable =\n",
              "            await google.colab.kernel.invokeFunction('convertToInteractive',\n",
              "                                                     [key], {});\n",
              "          if (!dataTable) return;\n",
              "\n",
              "          const docLinkHtml = 'Like what you see? Visit the ' +\n",
              "            '<a target=\"_blank\" href=https://colab.research.google.com/notebooks/data_table.ipynb>data table notebook</a>'\n",
              "            + ' to learn more about interactive tables.';\n",
              "          element.innerHTML = '';\n",
              "          dataTable['output_type'] = 'display_data';\n",
              "          await google.colab.output.renderOutput(dataTable, element);\n",
              "          const docLink = document.createElement('div');\n",
              "          docLink.innerHTML = docLinkHtml;\n",
              "          element.appendChild(docLink);\n",
              "        }\n",
              "      </script>\n",
              "    </div>\n",
              "  </div>\n",
              "  "
            ]
          },
          "metadata": {},
          "execution_count": 5
        }
      ]
    },
    {
      "cell_type": "markdown",
      "source": [
        "## Bootstrap"
      ],
      "metadata": {
        "id": "D7b4ME5f6Rlv"
      }
    },
    {
      "cell_type": "code",
      "source": [
        "def bootstrap(test, control, iterations = 1000):\n",
        "  iterations = iterations\n",
        "  size = min(len(test), len(control))\n",
        "  t_boots = [random.choices(test, weights=None, k=size) for _ in range(iterations)]\n",
        "  c_boots = [random.choices(control, weights=None, k=size) for _ in range(iterations)]\n",
        "  return t_boots, c_boots"
      ],
      "metadata": {
        "id": "pYUWsLImyikv"
      },
      "execution_count": null,
      "outputs": []
    },
    {
      "cell_type": "code",
      "source": [
        "def agg_sum(array):\n",
        "  return [sum(i) for i in array]\n",
        "\n",
        "def agg_avg(array):\n",
        "  return [sum(i)/len(i) for i in array]"
      ],
      "metadata": {
        "id": "rYVK47DQ6B5n"
      },
      "execution_count": null,
      "outputs": []
    },
    {
      "cell_type": "code",
      "source": [
        "def diff(test, control):\n",
        "  return [test_i - control_i for (test_i,control_i) in zip(test,control)]\n",
        "\n",
        "def compare(test, control):\n",
        "  return [test_i/control_i for (test_i,control_i) in zip(test,control)]\n",
        "\n",
        "def perc_compare(test, control):\n",
        "  return [(test_i/control_i-1)*100 for (test_i,control_i) in zip(test,control)]"
      ],
      "metadata": {
        "id": "vjybdFNi5Z-t"
      },
      "execution_count": null,
      "outputs": []
    },
    {
      "cell_type": "markdown",
      "source": [
        "# 1. Достаточный объём выборки\n",
        "### 1.1. Per-user-метрика"
      ],
      "metadata": {
        "id": "Akip3Xb2XKyo"
      }
    },
    {
      "cell_type": "code",
      "source": [
        "random.seed(42)"
      ],
      "metadata": {
        "id": "GsbPuJaMydUn"
      },
      "execution_count": null,
      "outputs": []
    },
    {
      "cell_type": "code",
      "source": [
        "df['hash_value'] = df.user_id.apply(lambda i: hash(i)%100)\n",
        "\n",
        "# Процент из генеральной совокупности\n",
        "slices = [10,20,30,40,50]\n",
        "minimum_lift = []\n",
        "n_items = []\n",
        "users = []\n",
        "\n",
        "metric = 'gmv'\n",
        "\n",
        "for i in slices:\n",
        "  test_slice = df['hash_value']<i\n",
        "  control_slice = (df['hash_value']>=i) & (df['hash_value']<2*i)\n",
        "\n",
        "  test = df[test_slice][metric].to_list()\n",
        "  control = df[control_slice][metric].to_list()\n",
        "\n",
        "  t_list, c_list = bootstrap(test, control)\n",
        "\n",
        "  result = perc_compare(agg_sum(t_list), agg_sum(c_list))\n",
        "  minimum_lift.append((np.quantile(result, 0.975) - np.quantile(result, 0.025))/2)\n",
        "  n_items.append(i)\n",
        "  users.append(min(len(test), len(control)))\n",
        "t_boots, c_boots = t_list, c_list"
      ],
      "metadata": {
        "id": "zdYg-F-EnIeC"
      },
      "execution_count": null,
      "outputs": []
    },
    {
      "cell_type": "code",
      "source": [
        "t = agg_sum(t_boots)\n",
        "c = agg_sum(c_boots)\n",
        "plt.figure(figsize=(12,5))\n",
        "plt.style.use('ggplot')\n",
        "plt.hist([t,c], bins=50)\n",
        "plt.vlines([np.quantile(t,q=0.975),np.quantile(t,q=0.025),np.quantile(t,q=0.5)],ymin=0,ymax=50,linestyle='--', color='red')\n",
        "plt.vlines([np.quantile(c,q=0.975),np.quantile(c,q=0.025),np.quantile(c,q=0.5)],ymin=0,ymax=50,linestyle='--', color='blue')\n",
        "plt.vlines([np.quantile(t,q=0.5),np.quantile(c,q=0.5)],ymin=0,ymax=90,linestyle='-', color='yellow')\n",
        "plt.show()"
      ],
      "metadata": {
        "id": "il9VRtIzKqSr",
        "colab": {
          "base_uri": "https://localhost:8080/",
          "height": 463
        },
        "outputId": "d25e974d-5b50-4fd9-ae19-36d380d12ee4"
      },
      "execution_count": null,
      "outputs": [
        {
          "output_type": "display_data",
          "data": {
            "text/plain": [
              "<Figure size 1200x500 with 1 Axes>"
            ],
            "image/png": "[encoded data removed]"
          },
          "metadata": {}
        }
      ]
    },
    {
      "cell_type": "code",
      "source": [
        "pd.DataFrame({'minimum_lift': minimum_lift,\n",
        "'users': users,\n",
        "'n_items': n_items})"
      ],
      "metadata": {
        "colab": {
          "base_uri": "https://localhost:8080/",
          "height": 204
        },
        "id": "_8gLZULnVdHy",
        "outputId": "1dfdf871-1c33-4dee-aff2-2b89a34f537a"
      },
      "execution_count": null,
      "outputs": [
        {
          "output_type": "execute_result",
          "data": {
            "text/plain": [
              "   minimum_lift  users  n_items\n",
              "0     11.159025    980       10\n",
              "1      7.592055   1968       20\n",
              "2      6.363231   2995       30\n",
              "3      5.296171   3981       40\n",
              "4      5.004424   4981       50"
            ],
            "text/html": [
              "\n",
              "  <div id=\"df-0125d4d5-ef60-4468-b76e-1236bafa6f22\">\n",
              "    <div class=\"colab-df-container\">\n",
              "      <div>\n",
              "<style scoped>\n",
              "    .dataframe tbody tr th:only-of-type {\n",
              "        vertical-align: middle;\n",
              "    }\n",
              "\n",
              "    .dataframe tbody tr th {\n",
              "        vertical-align: top;\n",
              "    }\n",
              "\n",
              "    .dataframe thead th {\n",
              "        text-align: right;\n",
              "    }\n",
              "</style>\n",
              "<table border=\"1\" class=\"dataframe\">\n",
              "  <thead>\n",
              "    <tr style=\"text-align: right;\">\n",
              "      <th></th>\n",
              "      <th>minimum_lift</th>\n",
              "      <th>users</th>\n",
              "      <th>n_items</th>\n",
              "    </tr>\n",
              "  </thead>\n",
              "  <tbody>\n",
              "    <tr>\n",
              "      <th>0</th>\n",
              "      <td>11.159025</td>\n",
              "      <td>980</td>\n",
              "      <td>10</td>\n",
              "    </tr>\n",
              "    <tr>\n",
              "      <th>1</th>\n",
              "      <td>7.592055</td>\n",
              "      <td>1968</td>\n",
              "      <td>20</td>\n",
              "    </tr>\n",
              "    <tr>\n",
              "      <th>2</th>\n",
              "      <td>6.363231</td>\n",
              "      <td>2995</td>\n",
              "      <td>30</td>\n",
              "    </tr>\n",
              "    <tr>\n",
              "      <th>3</th>\n",
              "      <td>5.296171</td>\n",
              "      <td>3981</td>\n",
              "      <td>40</td>\n",
              "    </tr>\n",
              "    <tr>\n",
              "      <th>4</th>\n",
              "      <td>5.004424</td>\n",
              "      <td>4981</td>\n",
              "      <td>50</td>\n",
              "    </tr>\n",
              "  </tbody>\n",
              "</table>\n",
              "</div>\n",
              "      <button class=\"colab-df-convert\" onclick=\"convertToInteractive('df-0125d4d5-ef60-4468-b76e-1236bafa6f22')\"\n",
              "              title=\"Convert this dataframe to an interactive table.\"\n",
              "              style=\"display:none;\">\n",
              "        \n",
              "  <svg xmlns=\"http://www.w3.org/2000/svg\" height=\"24px\"viewBox=\"0 0 24 24\"\n",
              "       width=\"24px\">\n",
              "    <path d=\"M0 0h24v24H0V0z\" fill=\"none\"/>\n",
              "    <path d=\"M18.56 5.44l.94 2.06.94-2.06 2.06-.94-2.06-.94-.94-2.06-.94 2.06-2.06.94zm-11 1L8.5 8.5l.94-2.06 2.06-.94-2.06-.94L8.5 2.5l-.94 2.06-2.06.94zm10 10l.94 2.06.94-2.06 2.06-.94-2.06-.94-.94-2.06-.94 2.06-2.06.94z\"/><path d=\"M17.41 7.96l-1.37-1.37c-.4-.4-.92-.59-1.43-.59-.52 0-1.04.2-1.43.59L10.3 9.45l-7.72 7.72c-.78.78-.78 2.05 0 2.83L4 21.41c.39.39.9.59 1.41.59.51 0 1.02-.2 1.41-.59l7.78-7.78 2.81-2.81c.8-.78.8-2.07 0-2.86zM5.41 20L4 18.59l7.72-7.72 1.47 1.35L5.41 20z\"/>\n",
              "  </svg>\n",
              "      </button>\n",
              "      \n",
              "  <style>\n",
              "    .colab-df-container {\n",
              "      display:flex;\n",
              "      flex-wrap:wrap;\n",
              "      gap: 12px;\n",
              "    }\n",
              "\n",
              "    .colab-df-convert {\n",
              "      background-color: #E8F0FE;\n",
              "      border: none;\n",
              "      border-radius: 50%;\n",
              "      cursor: pointer;\n",
              "      display: none;\n",
              "      fill: #1967D2;\n",
              "      height: 32px;\n",
              "      padding: 0 0 0 0;\n",
              "      width: 32px;\n",
              "    }\n",
              "\n",
              "    .colab-df-convert:hover {\n",
              "      background-color: #E2EBFA;\n",
              "      box-shadow: 0px 1px 2px rgba(60, 64, 67, 0.3), 0px 1px 3px 1px rgba(60, 64, 67, 0.15);\n",
              "      fill: #174EA6;\n",
              "    }\n",
              "\n",
              "    [theme=dark] .colab-df-convert {\n",
              "      background-color: #3B4455;\n",
              "      fill: #D2E3FC;\n",
              "    }\n",
              "\n",
              "    [theme=dark] .colab-df-convert:hover {\n",
              "      background-color: #434B5C;\n",
              "      box-shadow: 0px 1px 3px 1px rgba(0, 0, 0, 0.15);\n",
              "      filter: drop-shadow(0px 1px 2px rgba(0, 0, 0, 0.3));\n",
              "      fill: #FFFFFF;\n",
              "    }\n",
              "  </style>\n",
              "\n",
              "      <script>\n",
              "        const buttonEl =\n",
              "          document.querySelector('#df-0125d4d5-ef60-4468-b76e-1236bafa6f22 button.colab-df-convert');\n",
              "        buttonEl.style.display =\n",
              "          google.colab.kernel.accessAllowed ? 'block' : 'none';\n",
              "\n",
              "        async function convertToInteractive(key) {\n",
              "          const element = document.querySelector('#df-0125d4d5-ef60-4468-b76e-1236bafa6f22');\n",
              "          const dataTable =\n",
              "            await google.colab.kernel.invokeFunction('convertToInteractive',\n",
              "                                                     [key], {});\n",
              "          if (!dataTable) return;\n",
              "\n",
              "          const docLinkHtml = 'Like what you see? Visit the ' +\n",
              "            '<a target=\"_blank\" href=https://colab.research.google.com/notebooks/data_table.ipynb>data table notebook</a>'\n",
              "            + ' to learn more about interactive tables.';\n",
              "          element.innerHTML = '';\n",
              "          dataTable['output_type'] = 'display_data';\n",
              "          await google.colab.output.renderOutput(dataTable, element);\n",
              "          const docLink = document.createElement('div');\n",
              "          docLink.innerHTML = docLinkHtml;\n",
              "          element.appendChild(docLink);\n",
              "        }\n",
              "      </script>\n",
              "    </div>\n",
              "  </div>\n",
              "  "
            ]
          },
          "metadata": {},
          "execution_count": 12
        }
      ]
    },
    {
      "cell_type": "code",
      "source": [
        "t = agg_sum(t_boots)\n",
        "c = agg_sum(c_boots)\n",
        "plt.figure(figsize=(12,5))\n",
        "plt.style.use('ggplot')\n",
        "plt.hist([t,c], bins=50)\n",
        "plt.vlines([np.quantile(t,q=0.975),np.quantile(t,q=0.025),np.quantile(t,q=0.5)],ymin=0,ymax=50,linestyle='--', color='red')\n",
        "plt.vlines([np.quantile(c,q=0.975),np.quantile(c,q=0.025),np.quantile(c,q=0.5)],ymin=0,ymax=50,linestyle='--', color='blue')\n",
        "plt.vlines([np.quantile(t,q=0.5),np.quantile(c,q=0.5)],ymin=0,ymax=90,linestyle='-', color='yellow')\n",
        "plt.show()"
      ],
      "metadata": {
        "colab": {
          "base_uri": "https://localhost:8080/",
          "height": 463
        },
        "id": "BnMCV67sALfH",
        "outputId": "56818fdb-63f9-485b-bcba-4b598b7392c7"
      },
      "execution_count": null,
      "outputs": [
        {
          "output_type": "display_data",
          "data": {
            "text/plain": [
              "<Figure size 1200x500 with 1 Axes>"
            ],
            "image/png": "[encoded data removed]"
          },
          "metadata": {}
        }
      ]
    },
    {
      "cell_type": "markdown",
      "source": [
        "### 1.2. Ratio-метрика\n",
        "Классический Bootstrap для конверсий"
      ],
      "metadata": {
        "id": "fTWAARWTYGmy"
      }
    },
    {
      "cell_type": "code",
      "source": [
        "def bootstrap(test, control, iterations = 1000):\n",
        "  iterations = iterations\n",
        "  t_boots = [random.choices(test, weights=None, k=len(test)) for _ in range(iterations)]\n",
        "  c_boots = [random.choices(control, weights=None, k=len(control)) for _ in range(iterations)]\n",
        "  return t_boots, c_boots"
      ],
      "metadata": {
        "id": "y2jl13qRXIch"
      },
      "execution_count": null,
      "outputs": []
    },
    {
      "cell_type": "code",
      "source": [
        "df['hash_value'] = df.user_id.apply(lambda i: hash(i)%100)\n",
        "\n",
        "# Процент из генеральной совокупности\n",
        "slices = [10,20,30,40,50]\n",
        "minimum_lift = []\n",
        "n_items = []\n",
        "users = []\n",
        "\n",
        "metric = 'conversion'\n",
        "\n",
        "for i in slices:\n",
        "  test_slice = df['hash_value']<i\n",
        "  control_slice = (df['hash_value']>=i) & (df['hash_value']<2*i)\n",
        "\n",
        "  test = df[test_slice][metric].to_list()\n",
        "  control = df[control_slice][metric].to_list()\n",
        "\n",
        "  t_list, c_list = bootstrap(test, control)\n",
        "\n",
        "  result = diff(agg_avg(t_list), agg_avg(c_list))\n",
        "  minimum_lift.append((np.quantile(result, 0.975) - np.quantile(result, 0.025))/2)\n",
        "  n_items.append(i)\n",
        "  users.append(min(len(test), len(control)))\n",
        "t_boots, c_boots = t_list, c_list"
      ],
      "metadata": {
        "id": "HoSyV_C9YPNk"
      },
      "execution_count": null,
      "outputs": []
    },
    {
      "cell_type": "code",
      "source": [
        "pd.DataFrame({'minimum_lift': minimum_lift,\n",
        "'users': users,\n",
        "'n_items': n_items})"
      ],
      "metadata": {
        "colab": {
          "base_uri": "https://localhost:8080/",
          "height": 204
        },
        "id": "47VVThS4Yk-W",
        "outputId": "7109a8f0-ac6d-4e1d-d224-8db96d5ebb86"
      },
      "execution_count": null,
      "outputs": [
        {
          "output_type": "execute_result",
          "data": {
            "text/plain": [
              "   minimum_lift  users  n_items\n",
              "0      0.045738    980       10\n",
              "1      0.031455   1968       20\n",
              "2      0.024458   2995       30\n",
              "3      0.022030   3981       40\n",
              "4      0.019497   4981       50"
            ],
            "text/html": [
              "\n",
              "  <div id=\"df-4243280a-90d9-4d02-a49b-d2e20f8db79c\">\n",
              "    <div class=\"colab-df-container\">\n",
              "      <div>\n",
              "<style scoped>\n",
              "    .dataframe tbody tr th:only-of-type {\n",
              "        vertical-align: middle;\n",
              "    }\n",
              "\n",
              "    .dataframe tbody tr th {\n",
              "        vertical-align: top;\n",
              "    }\n",
              "\n",
              "    .dataframe thead th {\n",
              "        text-align: right;\n",
              "    }\n",
              "</style>\n",
              "<table border=\"1\" class=\"dataframe\">\n",
              "  <thead>\n",
              "    <tr style=\"text-align: right;\">\n",
              "      <th></th>\n",
              "      <th>minimum_lift</th>\n",
              "      <th>users</th>\n",
              "      <th>n_items</th>\n",
              "    </tr>\n",
              "  </thead>\n",
              "  <tbody>\n",
              "    <tr>\n",
              "      <th>0</th>\n",
              "      <td>0.045738</td>\n",
              "      <td>980</td>\n",
              "      <td>10</td>\n",
              "    </tr>\n",
              "    <tr>\n",
              "      <th>1</th>\n",
              "      <td>0.031455</td>\n",
              "      <td>1968</td>\n",
              "      <td>20</td>\n",
              "    </tr>\n",
              "    <tr>\n",
              "      <th>2</th>\n",
              "      <td>0.024458</td>\n",
              "      <td>2995</td>\n",
              "      <td>30</td>\n",
              "    </tr>\n",
              "    <tr>\n",
              "      <th>3</th>\n",
              "      <td>0.022030</td>\n",
              "      <td>3981</td>\n",
              "      <td>40</td>\n",
              "    </tr>\n",
              "    <tr>\n",
              "      <th>4</th>\n",
              "      <td>0.019497</td>\n",
              "      <td>4981</td>\n",
              "      <td>50</td>\n",
              "    </tr>\n",
              "  </tbody>\n",
              "</table>\n",
              "</div>\n",
              "      <button class=\"colab-df-convert\" onclick=\"convertToInteractive('df-4243280a-90d9-4d02-a49b-d2e20f8db79c')\"\n",
              "              title=\"Convert this dataframe to an interactive table.\"\n",
              "              style=\"display:none;\">\n",
              "        \n",
              "  <svg xmlns=\"http://www.w3.org/2000/svg\" height=\"24px\"viewBox=\"0 0 24 24\"\n",
              "       width=\"24px\">\n",
              "    <path d=\"M0 0h24v24H0V0z\" fill=\"none\"/>\n",
              "    <path d=\"M18.56 5.44l.94 2.06.94-2.06 2.06-.94-2.06-.94-.94-2.06-.94 2.06-2.06.94zm-11 1L8.5 8.5l.94-2.06 2.06-.94-2.06-.94L8.5 2.5l-.94 2.06-2.06.94zm10 10l.94 2.06.94-2.06 2.06-.94-2.06-.94-.94-2.06-.94 2.06-2.06.94z\"/><path d=\"M17.41 7.96l-1.37-1.37c-.4-.4-.92-.59-1.43-.59-.52 0-1.04.2-1.43.59L10.3 9.45l-7.72 7.72c-.78.78-.78 2.05 0 2.83L4 21.41c.39.39.9.59 1.41.59.51 0 1.02-.2 1.41-.59l7.78-7.78 2.81-2.81c.8-.78.8-2.07 0-2.86zM5.41 20L4 18.59l7.72-7.72 1.47 1.35L5.41 20z\"/>\n",
              "  </svg>\n",
              "      </button>\n",
              "      \n",
              "  <style>\n",
              "    .colab-df-container {\n",
              "      display:flex;\n",
              "      flex-wrap:wrap;\n",
              "      gap: 12px;\n",
              "    }\n",
              "\n",
              "    .colab-df-convert {\n",
              "      background-color: #E8F0FE;\n",
              "      border: none;\n",
              "      border-radius: 50%;\n",
              "      cursor: pointer;\n",
              "      display: none;\n",
              "      fill: #1967D2;\n",
              "      height: 32px;\n",
              "      padding: 0 0 0 0;\n",
              "      width: 32px;\n",
              "    }\n",
              "\n",
              "    .colab-df-convert:hover {\n",
              "      background-color: #E2EBFA;\n",
              "      box-shadow: 0px 1px 2px rgba(60, 64, 67, 0.3), 0px 1px 3px 1px rgba(60, 64, 67, 0.15);\n",
              "      fill: #174EA6;\n",
              "    }\n",
              "\n",
              "    [theme=dark] .colab-df-convert {\n",
              "      background-color: #3B4455;\n",
              "      fill: #D2E3FC;\n",
              "    }\n",
              "\n",
              "    [theme=dark] .colab-df-convert:hover {\n",
              "      background-color: #434B5C;\n",
              "      box-shadow: 0px 1px 3px 1px rgba(0, 0, 0, 0.15);\n",
              "      filter: drop-shadow(0px 1px 2px rgba(0, 0, 0, 0.3));\n",
              "      fill: #FFFFFF;\n",
              "    }\n",
              "  </style>\n",
              "\n",
              "      <script>\n",
              "        const buttonEl =\n",
              "          document.querySelector('#df-4243280a-90d9-4d02-a49b-d2e20f8db79c button.colab-df-convert');\n",
              "        buttonEl.style.display =\n",
              "          google.colab.kernel.accessAllowed ? 'block' : 'none';\n",
              "\n",
              "        async function convertToInteractive(key) {\n",
              "          const element = document.querySelector('#df-4243280a-90d9-4d02-a49b-d2e20f8db79c');\n",
              "          const dataTable =\n",
              "            await google.colab.kernel.invokeFunction('convertToInteractive',\n",
              "                                                     [key], {});\n",
              "          if (!dataTable) return;\n",
              "\n",
              "          const docLinkHtml = 'Like what you see? Visit the ' +\n",
              "            '<a target=\"_blank\" href=https://colab.research.google.com/notebooks/data_table.ipynb>data table notebook</a>'\n",
              "            + ' to learn more about interactive tables.';\n",
              "          element.innerHTML = '';\n",
              "          dataTable['output_type'] = 'display_data';\n",
              "          await google.colab.output.renderOutput(dataTable, element);\n",
              "          const docLink = document.createElement('div');\n",
              "          docLink.innerHTML = docLinkHtml;\n",
              "          element.appendChild(docLink);\n",
              "        }\n",
              "      </script>\n",
              "    </div>\n",
              "  </div>\n",
              "  "
            ]
          },
          "metadata": {},
          "execution_count": 16
        }
      ]
    },
    {
      "cell_type": "code",
      "source": [
        "t = agg_sum(t_boots)\n",
        "c = agg_sum(c_boots)\n",
        "plt.figure(figsize=(12,5))\n",
        "plt.hist([t,c], bins=50)\n",
        "plt.vlines([np.quantile(t,q=0.975),np.quantile(t,q=0.025),np.quantile(t,q=0.5)],ymin=0,ymax=50,linestyle='--', color='black')\n",
        "plt.vlines([np.quantile(c,q=0.975),np.quantile(c,q=0.025),np.quantile(c,q=0.5)],ymin=0,ymax=50,linestyle='--', color='blue')\n",
        "plt.show()"
      ],
      "metadata": {
        "colab": {
          "base_uri": "https://localhost:8080/",
          "height": 449
        },
        "id": "2ObluPjXYlMk",
        "outputId": "c62d1368-08ee-4116-e3f7-cd2beda6ff9d"
      },
      "execution_count": null,
      "outputs": [
        {
          "output_type": "display_data",
          "data": {
            "text/plain": [
              "<Figure size 1200x500 with 1 Axes>"
            ],
            "image/png": "[encoded data removed]"
          },
          "metadata": {}
        }
      ]
    },
    {
      "cell_type": "markdown",
      "source": [
        "Bootstrap с предварительной линеаризацией для средних чеков на покупку\n",
        "\n",
        "У нас одно наблюдение - один пользователь, метрики агрегированы на пользователя (например, GMV, количество покупок)\n",
        "Линеаризация нужна, если на пользователя несколько объектов наблюдения (например, чеков, и мы хотим протестировать средний чек покупки )\n",
        "\n",
        "\n"
      ],
      "metadata": {
        "id": "AySS4qduZWW2"
      }
    },
    {
      "cell_type": "code",
      "source": [
        "def linearization(control, experiment):\n",
        "    numerator = 0\n",
        "    denominator = 0\n",
        "    for row in control:\n",
        "        numerator += sum(row)\n",
        "        denominator += len(row)\n",
        "\n",
        "    control_mean = numerator / denominator\n",
        "    new_control = [sum(row) - len(row) * control_mean for row in control]\n",
        "    new_experiment = [sum(row) - len(row) * control_mean for row in experiment]\n",
        "    return new_control, new_experiment\n",
        "new_control, new_experiment = linearization(df[df['hash_value']>=50]['avg'], df[df['hash_value']<50]['avg'])    "
      ],
      "metadata": {
        "id": "d_Sr9AzOXIs0"
      },
      "execution_count": null,
      "outputs": []
    },
    {
      "cell_type": "code",
      "source": [
        "df[df['hash_value']>=50]['avg']"
      ],
      "metadata": {
        "colab": {
          "base_uri": "https://localhost:8080/"
        },
        "id": "HCtQ72KxDhpT",
        "outputId": "68eb247a-ef20-49dc-ac3a-bf20262463f2"
      },
      "execution_count": null,
      "outputs": [
        {
          "output_type": "execute_result",
          "data": {
            "text/plain": [
              "0                                                     [0]\n",
              "2                                                     [0]\n",
              "8                                                     [0]\n",
              "9       [7.790491803278689, 7.790491803278689, 7.79049...\n",
              "10                                                    [0]\n",
              "                              ...                        \n",
              "9993                                                  [0]\n",
              "9994                                                  [0]\n",
              "9997    [10.311392405063291, 10.311392405063291, 10.31...\n",
              "9998    [26.933333333333334, 26.933333333333334, 26.93...\n",
              "9999    [4.241690140845071, 4.241690140845071, 4.24169...\n",
              "Name: avg, Length: 5019, dtype: object"
            ]
          },
          "metadata": {},
          "execution_count": 19
        }
      ]
    },
    {
      "cell_type": "code",
      "source": [
        "new_control[:10]"
      ],
      "metadata": {
        "id": "-l8mGKOgDthv",
        "colab": {
          "base_uri": "https://localhost:8080/"
        },
        "outputId": "67d114b9-1d91-425c-df60-f1ec8274a09c"
      },
      "execution_count": null,
      "outputs": [
        {
          "output_type": "execute_result",
          "data": {
            "text/plain": [
              "[-9.670567894469038,\n",
              " -9.670567894469038,\n",
              " -9.670567894469038,\n",
              " -114.68464156261075,\n",
              " -9.670567894469038,\n",
              " -33.676691040045,\n",
              " -38.58555525110711,\n",
              " -9.670567894469038,\n",
              " 209.1244447488935,\n",
              " 836.1414815829643]"
            ]
          },
          "metadata": {},
          "execution_count": 20
        }
      ]
    },
    {
      "cell_type": "code",
      "source": [
        "# Процент из генеральной совокупности\n",
        "slices = [10,20,30,40,50]\n",
        "minimum_lift = []\n",
        "n_items = []\n",
        "users = []\n",
        "\n",
        "metric = 'avg'\n",
        "\n",
        "for i in slices:\n",
        "  test_slice = df['hash_value']<i\n",
        "  control_slice = (df['hash_value']>=i) & (df['hash_value']<2*i)\n",
        "\n",
        "  control, test = linearization(df[control_slice][metric].to_list(), df[test_slice][metric].to_list())\n",
        "\n",
        "  t_list, c_list = bootstrap(test, control)\n",
        "\n",
        "  result = diff(agg_avg(t_list), agg_avg(c_list))\n",
        "  minimum_lift.append((np.quantile(result, 0.975) - np.quantile(result, 0.025))/2)\n",
        "  n_items.append(i)\n",
        "  users.append(min(len(test), len(control)))\n",
        "t_boots, c_boots = t_list, c_list"
      ],
      "metadata": {
        "id": "hrRNWvRsjDAz"
      },
      "execution_count": null,
      "outputs": []
    },
    {
      "cell_type": "code",
      "source": [
        "pd.DataFrame({'minimum_lift': minimum_lift, 'n_items': n_items, 'users': users})"
      ],
      "metadata": {
        "colab": {
          "base_uri": "https://localhost:8080/",
          "height": 204
        },
        "id": "bSy1VWNAEDrc",
        "outputId": "68b4410c-f7b4-4291-b02d-8f6be9d2659c"
      },
      "execution_count": null,
      "outputs": [
        {
          "output_type": "execute_result",
          "data": {
            "text/plain": [
              "   minimum_lift  n_items  users\n",
              "0     24.618337       10    980\n",
              "1     16.541470       20   1968\n",
              "2     14.013003       30   2995\n",
              "3     11.924746       40   3981\n",
              "4     11.296712       50   4981"
            ],
            "text/html": [
              "\n",
              "  <div id=\"df-da7b5f0f-b68c-46c8-ac91-bfb6ac3017de\">\n",
              "    <div class=\"colab-df-container\">\n",
              "      <div>\n",
              "<style scoped>\n",
              "    .dataframe tbody tr th:only-of-type {\n",
              "        vertical-align: middle;\n",
              "    }\n",
              "\n",
              "    .dataframe tbody tr th {\n",
              "        vertical-align: top;\n",
              "    }\n",
              "\n",
              "    .dataframe thead th {\n",
              "        text-align: right;\n",
              "    }\n",
              "</style>\n",
              "<table border=\"1\" class=\"dataframe\">\n",
              "  <thead>\n",
              "    <tr style=\"text-align: right;\">\n",
              "      <th></th>\n",
              "      <th>minimum_lift</th>\n",
              "      <th>n_items</th>\n",
              "      <th>users</th>\n",
              "    </tr>\n",
              "  </thead>\n",
              "  <tbody>\n",
              "    <tr>\n",
              "      <th>0</th>\n",
              "      <td>24.618337</td>\n",
              "      <td>10</td>\n",
              "      <td>980</td>\n",
              "    </tr>\n",
              "    <tr>\n",
              "      <th>1</th>\n",
              "      <td>16.541470</td>\n",
              "      <td>20</td>\n",
              "      <td>1968</td>\n",
              "    </tr>\n",
              "    <tr>\n",
              "      <th>2</th>\n",
              "      <td>14.013003</td>\n",
              "      <td>30</td>\n",
              "      <td>2995</td>\n",
              "    </tr>\n",
              "    <tr>\n",
              "      <th>3</th>\n",
              "      <td>11.924746</td>\n",
              "      <td>40</td>\n",
              "      <td>3981</td>\n",
              "    </tr>\n",
              "    <tr>\n",
              "      <th>4</th>\n",
              "      <td>11.296712</td>\n",
              "      <td>50</td>\n",
              "      <td>4981</td>\n",
              "    </tr>\n",
              "  </tbody>\n",
              "</table>\n",
              "</div>\n",
              "      <button class=\"colab-df-convert\" onclick=\"convertToInteractive('df-da7b5f0f-b68c-46c8-ac91-bfb6ac3017de')\"\n",
              "              title=\"Convert this dataframe to an interactive table.\"\n",
              "              style=\"display:none;\">\n",
              "        \n",
              "  <svg xmlns=\"http://www.w3.org/2000/svg\" height=\"24px\"viewBox=\"0 0 24 24\"\n",
              "       width=\"24px\">\n",
              "    <path d=\"M0 0h24v24H0V0z\" fill=\"none\"/>\n",
              "    <path d=\"M18.56 5.44l.94 2.06.94-2.06 2.06-.94-2.06-.94-.94-2.06-.94 2.06-2.06.94zm-11 1L8.5 8.5l.94-2.06 2.06-.94-2.06-.94L8.5 2.5l-.94 2.06-2.06.94zm10 10l.94 2.06.94-2.06 2.06-.94-2.06-.94-.94-2.06-.94 2.06-2.06.94z\"/><path d=\"M17.41 7.96l-1.37-1.37c-.4-.4-.92-.59-1.43-.59-.52 0-1.04.2-1.43.59L10.3 9.45l-7.72 7.72c-.78.78-.78 2.05 0 2.83L4 21.41c.39.39.9.59 1.41.59.51 0 1.02-.2 1.41-.59l7.78-7.78 2.81-2.81c.8-.78.8-2.07 0-2.86zM5.41 20L4 18.59l7.72-7.72 1.47 1.35L5.41 20z\"/>\n",
              "  </svg>\n",
              "      </button>\n",
              "      \n",
              "  <style>\n",
              "    .colab-df-container {\n",
              "      display:flex;\n",
              "      flex-wrap:wrap;\n",
              "      gap: 12px;\n",
              "    }\n",
              "\n",
              "    .colab-df-convert {\n",
              "      background-color: #E8F0FE;\n",
              "      border: none;\n",
              "      border-radius: 50%;\n",
              "      cursor: pointer;\n",
              "      display: none;\n",
              "      fill: #1967D2;\n",
              "      height: 32px;\n",
              "      padding: 0 0 0 0;\n",
              "      width: 32px;\n",
              "    }\n",
              "\n",
              "    .colab-df-convert:hover {\n",
              "      background-color: #E2EBFA;\n",
              "      box-shadow: 0px 1px 2px rgba(60, 64, 67, 0.3), 0px 1px 3px 1px rgba(60, 64, 67, 0.15);\n",
              "      fill: #174EA6;\n",
              "    }\n",
              "\n",
              "    [theme=dark] .colab-df-convert {\n",
              "      background-color: #3B4455;\n",
              "      fill: #D2E3FC;\n",
              "    }\n",
              "\n",
              "    [theme=dark] .colab-df-convert:hover {\n",
              "      background-color: #434B5C;\n",
              "      box-shadow: 0px 1px 3px 1px rgba(0, 0, 0, 0.15);\n",
              "      filter: drop-shadow(0px 1px 2px rgba(0, 0, 0, 0.3));\n",
              "      fill: #FFFFFF;\n",
              "    }\n",
              "  </style>\n",
              "\n",
              "      <script>\n",
              "        const buttonEl =\n",
              "          document.querySelector('#df-da7b5f0f-b68c-46c8-ac91-bfb6ac3017de button.colab-df-convert');\n",
              "        buttonEl.style.display =\n",
              "          google.colab.kernel.accessAllowed ? 'block' : 'none';\n",
              "\n",
              "        async function convertToInteractive(key) {\n",
              "          const element = document.querySelector('#df-da7b5f0f-b68c-46c8-ac91-bfb6ac3017de');\n",
              "          const dataTable =\n",
              "            await google.colab.kernel.invokeFunction('convertToInteractive',\n",
              "                                                     [key], {});\n",
              "          if (!dataTable) return;\n",
              "\n",
              "          const docLinkHtml = 'Like what you see? Visit the ' +\n",
              "            '<a target=\"_blank\" href=https://colab.research.google.com/notebooks/data_table.ipynb>data table notebook</a>'\n",
              "            + ' to learn more about interactive tables.';\n",
              "          element.innerHTML = '';\n",
              "          dataTable['output_type'] = 'display_data';\n",
              "          await google.colab.output.renderOutput(dataTable, element);\n",
              "          const docLink = document.createElement('div');\n",
              "          docLink.innerHTML = docLinkHtml;\n",
              "          element.appendChild(docLink);\n",
              "        }\n",
              "      </script>\n",
              "    </div>\n",
              "  </div>\n",
              "  "
            ]
          },
          "metadata": {},
          "execution_count": 22
        }
      ]
    },
    {
      "cell_type": "code",
      "source": [
        "t = agg_avg(t_boots)\n",
        "c = agg_avg(c_boots)\n",
        "plt.figure(figsize=(12,5))\n",
        "plt.hist([t,c], bins=50)\n",
        "plt.vlines([np.quantile(t,q=0.975),np.quantile(t,q=0.025),np.quantile(t,q=0.5)],ymin=0,ymax=50,linestyle='--', color='black')\n",
        "plt.vlines([np.quantile(c,q=0.975),np.quantile(c,q=0.025),np.quantile(c,q=0.5)],ymin=0,ymax=50,linestyle='--', color='blue')\n",
        "plt.show()"
      ],
      "metadata": {
        "colab": {
          "base_uri": "https://localhost:8080/",
          "height": 445
        },
        "id": "94EnCLfzi0Ry",
        "outputId": "54e87580-00d9-4879-f728-c06865ad791a"
      },
      "execution_count": null,
      "outputs": [
        {
          "output_type": "display_data",
          "data": {
            "text/plain": [
              "<Figure size 1200x500 with 1 Axes>"
            ],
            "image/png": "[encoded data removed]"
          },
          "metadata": {}
        }
      ]
    },
    {
      "cell_type": "markdown",
      "source": [
        "### Моделируем поведение после теста"
      ],
      "metadata": {
        "id": "vkdES7MMyxaC"
      }
    },
    {
      "cell_type": "code",
      "source": [
        "# После теста\n",
        "df2_1 = df[df['hash_value']<50].copy(deep=True)\n",
        "df2_2 = df[df['hash_value']>=50].copy(deep=True)\n",
        "n = df2_2.shape[0]\n",
        "conv = random.choices([0,1], weights=(10, 14), k=n)\n",
        "gmv = [round(random.random()*2000,2)*conv[i] for i in range(n)]\n",
        "cnt = [round(random.randint(0,200),2)*conv[i] for i in range(n)]\n",
        "avg = [gmv_i/cnt_i if cnt_i>=1 else None for (gmv_i,cnt_i) in zip(gmv, cnt)]\n",
        "\n",
        "df2_2 = pd.DataFrame({'user_id': df2_2.user_id.to_list(),\n",
        "                   'conversion': conv,\n",
        "                   'gmv': gmv,\n",
        "                   'cnt': cnt,\n",
        "                   'avg': avg,\n",
        "                   'hash_value': df2_2.hash_value.to_list()})\n",
        "df2 = pd.concat([df2_1, \n",
        "                 df2_2])\n",
        "del df2_1, df2_2"
      ],
      "metadata": {
        "id": "sqhWIgRHpOCN"
      },
      "execution_count": null,
      "outputs": []
    },
    {
      "cell_type": "markdown",
      "source": [
        "# 2. Расчет результатов теста\n",
        "### 2.1. Per-user-метрика"
      ],
      "metadata": {
        "id": "VY0QM_VuZozP"
      }
    },
    {
      "cell_type": "code",
      "source": [
        "metric = 'gmv'\n",
        "\n",
        "test_slice = df2['hash_value']>=50\n",
        "control_slice = df2['hash_value']<50\n",
        "\n",
        "test = df2[test_slice][metric].to_list()\n",
        "control = df2[control_slice][metric].to_list()\n",
        "\n",
        "t_list, c_list = bootstrap(test, control)\n",
        "\n",
        "result = perc_compare(agg_sum(t_list), agg_sum(c_list))\n",
        "ci_all = np.quantile(result, 0.025).round(2), np.quantile(result, 0.975).round(2)\n",
        "print('CI for ' + f': [{ci_all[0]}; {ci_all[1]}]')\n"
      ],
      "metadata": {
        "id": "jG7FeDt1ZpGJ",
        "colab": {
          "base_uri": "https://localhost:8080/"
        },
        "outputId": "52b20bfb-cd7d-4873-d4df-16dc4639b35c"
      },
      "execution_count": null,
      "outputs": [
        {
          "output_type": "stream",
          "name": "stdout",
          "text": [
            "CI for : [124.22; 147.03]\n"
          ]
        }
      ]
    },
    {
      "cell_type": "code",
      "source": [
        "plt.figure(figsize=(12,5))\n",
        "plt.hist(result, bins=50)\n",
        "plt.vlines([np.quantile(result,q=0.975),np.quantile(result,q=0.025),np.quantile(result,q=0.5)],ymin=0,ymax=50,linestyle='--', color='black')\n",
        "plt.show()"
      ],
      "metadata": {
        "colab": {
          "base_uri": "https://localhost:8080/",
          "height": 445
        },
        "id": "ra-oMljb4dF9",
        "outputId": "1036af4e-f6df-4b54-b85b-e55bae8e4781"
      },
      "execution_count": null,
      "outputs": [
        {
          "output_type": "display_data",
          "data": {
            "text/plain": [
              "<Figure size 1200x500 with 1 Axes>"
            ],
            "image/png": "[encoded data removed]"
          },
          "metadata": {}
        }
      ]
    },
    {
      "cell_type": "markdown",
      "source": [
        "Вывод: Наблюдаем на измененном dataset'е статистически значимые отличия в GMV"
      ],
      "metadata": {
        "id": "BqeyJ6pVoeoT"
      }
    },
    {
      "cell_type": "code",
      "source": [
        "metric = 'gmv'\n",
        "\n",
        "test_slice = df['hash_value']>=50\n",
        "control_slice = df['hash_value']<50\n",
        "\n",
        "test = df[test_slice][metric].to_list()\n",
        "control = df[control_slice][metric].to_list()\n",
        "\n",
        "t_list, c_list = bootstrap(test, control)\n",
        "\n",
        "result = perc_compare(agg_sum(t_list), agg_sum(c_list))\n",
        "ci_all = np.quantile(result, 0.025).round(2), np.quantile(result, 0.975).round(2)\n",
        "print('CI for ' + f': [{ci_all[0]}; {ci_all[1]}]')\n"
      ],
      "metadata": {
        "colab": {
          "base_uri": "https://localhost:8080/"
        },
        "id": "WDScCc5tFybs",
        "outputId": "a78c3107-da88-40b2-c94b-070568033112"
      },
      "execution_count": null,
      "outputs": [
        {
          "output_type": "stream",
          "name": "stdout",
          "text": [
            "CI for : [-5.09; 4.55]\n"
          ]
        }
      ]
    },
    {
      "cell_type": "code",
      "source": [
        "plt.figure(figsize=(12,5))\n",
        "plt.hist(result, bins=50)\n",
        "plt.vlines([np.quantile(result,q=0.975),np.quantile(result,q=0.025),np.quantile(result,q=0.5)],ymin=0,ymax=50,linestyle='--', color='black')\n",
        "plt.show()"
      ],
      "metadata": {
        "colab": {
          "base_uri": "https://localhost:8080/",
          "height": 445
        },
        "id": "qBsUEqQIF3G5",
        "outputId": "793b285f-0ef0-4cbd-8068-01a6a7e4e349"
      },
      "execution_count": null,
      "outputs": [
        {
          "output_type": "display_data",
          "data": {
            "text/plain": [
              "<Figure size 1200x500 with 1 Axes>"
            ],
            "image/png": "[encoded data removed]"
          },
          "metadata": {}
        }
      ]
    },
    {
      "cell_type": "markdown",
      "source": [
        "Вывод: на неизмененном dataset'е (без смоделированного uplift'а) не наблюдаем стат. значимых разичий"
      ],
      "metadata": {
        "id": "rGrUnNbWowGh"
      }
    },
    {
      "cell_type": "markdown",
      "source": [
        "### 2.2. Ratio-метрика\n",
        "Классический Bootstrap"
      ],
      "metadata": {
        "id": "e3Mt8acyaBdH"
      }
    },
    {
      "cell_type": "code",
      "source": [
        "metric = 'conversion'\n",
        "\n",
        "test_slice = df2['hash_value']>=50\n",
        "control_slice = df2['hash_value']<50\n",
        "\n",
        "test = df2[test_slice][metric].to_list()\n",
        "control = df2[control_slice][metric].to_list()\n",
        "\n",
        "t_list, c_list = bootstrap(test, control)\n",
        "\n",
        "result = diff(agg_avg(t_list), agg_avg(c_list))\n",
        "ci_all = np.quantile(result, 0.025).round(2), np.quantile(result, 0.975).round(2)\n",
        "print('CI for ' + f': [{ci_all[0]}; {ci_all[1]}]')"
      ],
      "metadata": {
        "id": "IPyIHg0_aG7S",
        "colab": {
          "base_uri": "https://localhost:8080/"
        },
        "outputId": "2ab1f9e1-9edd-4387-a817-65e6e5948f6b"
      },
      "execution_count": null,
      "outputs": [
        {
          "output_type": "stream",
          "name": "stdout",
          "text": [
            "CI for : [0.06; 0.1]\n"
          ]
        }
      ]
    },
    {
      "cell_type": "code",
      "source": [
        "plt.figure(figsize=(12,5))\n",
        "plt.hist(result, bins=50)\n",
        "plt.vlines([np.quantile(result,q=0.975),np.quantile(result,q=0.025),np.quantile(result,q=0.5)],ymin=0,ymax=50,linestyle='--', color='black')\n",
        "plt.show()"
      ],
      "metadata": {
        "colab": {
          "base_uri": "https://localhost:8080/",
          "height": 445
        },
        "id": "u016EMQO5Hmx",
        "outputId": "da4c3e10-74dd-4478-e00f-801d77165181"
      },
      "execution_count": null,
      "outputs": [
        {
          "output_type": "display_data",
          "data": {
            "text/plain": [
              "<Figure size 1200x500 with 1 Axes>"
            ],
            "image/png": "[encoded data removed]"
          },
          "metadata": {}
        }
      ]
    },
    {
      "cell_type": "markdown",
      "source": [
        "Вывод: на примере метрики конверсии наблюдаем статистически значимые различия"
      ],
      "metadata": {
        "id": "rkvekUqipIGm"
      }
    },
    {
      "cell_type": "markdown",
      "source": [
        "### 3. Сведем расчеты в единую функцию bootstrap"
      ],
      "metadata": {
        "id": "4nohg7vcpcnC"
      }
    },
    {
      "cell_type": "code",
      "source": [
        "def bootstrap(test, control, func_agg, func_diff, ratio=False, n_iterations=1000):\n",
        "    function_agg = func_agg\n",
        "    function_diff = func_diff\n",
        "    \n",
        "    size = min(len(test), len(control))\n",
        "    t_list = []\n",
        "    c_list = []\n",
        "    np.random.seed(seed=42)\n",
        "    \n",
        "    for _ in range(n_iterations):\n",
        "        if ratio:\n",
        "            test_agg = np.random.choice(a=test, size=len(test), replace=True)\n",
        "            control_agg = np.random.choice(a=control, size=len(control), replace=True)\n",
        "        else:\n",
        "            test_agg = np.random.choice(a=test, size=size, replace=True)\n",
        "            control_agg = np.random.choice(a=control, size=size, replace=True)\n",
        "        t_list.append(function_agg(test_agg))\n",
        "        c_list.append(function_agg(control_agg))\n",
        "        \n",
        "    t_list = np.array(t_list)\n",
        "    c_list = np.array(c_list)\n",
        "    result = function_diff(t_list, c_list)\n",
        "    \n",
        "    ci_all = np.quantile(result, 0.025).round(2), np.quantile(result, 0.975).round(2)\n",
        "    mde = (np.quantile(result, 0.975) - np.quantile(result, 0.025))/2\n",
        "    \n",
        "    return ci_all, mde, result"
      ],
      "metadata": {
        "id": "5rXYLKblpq3o"
      },
      "execution_count": null,
      "outputs": []
    },
    {
      "cell_type": "markdown",
      "source": [
        "# Интерпретация: выводы\n",
        "выводы на стороне аналитика\n",
        "\n",
        "\n",
        "\n"
      ],
      "metadata": {
        "id": "h-F0IVpZaHfw"
      }
    }
  ]
}